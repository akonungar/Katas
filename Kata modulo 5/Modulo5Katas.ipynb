{
 "cells": [
  {
   "cell_type": "code",
   "execution_count": 3,
   "metadata": {},
   "outputs": [
    {
     "name": "stdout",
     "output_type": "stream",
     "text": [
      "628949330\n",
      "390577534\n"
     ]
    }
   ],
   "source": [
    "DistanceEarth=149597870\n",
    "DistanceJupiter=778547200\n",
    "\n",
    "DiferenciaKM=round(abs(DistanceEarth-DistanceJupiter))\n",
    "DiferenciaMilla=round(abs(DistanceEarth-DistanceJupiter)*.621)\n",
    "\n",
    "print(f\"\"\"{DiferenciaKM}\n",
    "{DiferenciaMilla}\"\"\")\n"
   ]
  },
  {
   "cell_type": "code",
   "execution_count": 16,
   "metadata": {},
   "outputs": [
    {
     "name": "stdout",
     "output_type": "stream",
     "text": [
      "Ingresa la distancia del primer planeta:\n",
      "Ingresa la distancia del segundo planeta:\n",
      "La distancia de los planetas es de 50300000 km\n"
     ]
    }
   ],
   "source": [
    "DistancePlanet1 = 0\n",
    "DistancePlanet2 = 0\n",
    "\n",
    "print('Ingresa la distancia del primer planeta:')\n",
    "DistancePlanet1=input()\n",
    "print('Ingresa la distancia del segundo planeta:')\n",
    "DistancePlanet2=input()\n",
    "Diferencia=abs(int(DistancePlanet1)-int(DistancePlanet2))\n",
    "print(f'La distancia de los planetas es de {Diferencia} km')"
   ]
  }
 ],
 "metadata": {
  "interpreter": {
   "hash": "dda0ab21570dce833aaeb910644a02803c24e5869765398937f61f236ed1a04d"
  },
  "kernelspec": {
   "display_name": "Python 3.10.2 64-bit",
   "language": "python",
   "name": "python3"
  },
  "language_info": {
   "codemirror_mode": {
    "name": "ipython",
    "version": 3
   },
   "file_extension": ".py",
   "mimetype": "text/x-python",
   "name": "python",
   "nbconvert_exporter": "python",
   "pygments_lexer": "ipython3",
   "version": "3.10.2"
  },
  "orig_nbformat": 4
 },
 "nbformat": 4,
 "nbformat_minor": 2
}
