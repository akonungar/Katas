{
 "cells": [
  {
   "cell_type": "code",
   "execution_count": 13,
   "metadata": {},
   "outputs": [
    {
     "name": "stdout",
     "output_type": "stream",
     "text": [
      "Warning! Un asteroide se acerca peligrosamente rápido! Velocidad detectada del asteroide es de 49 km/s\n"
     ]
    }
   ],
   "source": [
    "asteroide=49\n",
    "if asteroide > 25:\n",
    "    print(\"Warning! Un asteroide se acerca peligrosamente rápido! Velocidad detectada del asteroide es de \" + str(asteroide) + \" km/s\")\n",
    "else:\n",
    "    print('Estamos a salvo')"
   ]
  },
  {
   "cell_type": "code",
   "execution_count": 18,
   "metadata": {},
   "outputs": [
    {
     "name": "stdout",
     "output_type": "stream",
     "text": [
      "Sin cambios en el cielo\n"
     ]
    }
   ],
   "source": [
    "asteroide=19\n",
    "if asteroide > 20:\n",
    "    print('Habitantes de la tierra es posible ver un rayo de luz, miren hacia el cielo!')\n",
    "elif asteroide == 20:\n",
    "    print('Habitantes de la tierra es posible ver un rayo de luz, miren hacia el cielo!')\n",
    "else:\n",
    "    print(\"Sin cambios en el cielo\")"
   ]
  },
  {
   "cell_type": "code",
   "execution_count": 28,
   "metadata": {},
   "outputs": [
    {
     "name": "stdout",
     "output_type": "stream",
     "text": [
      "Warning! Un asteroide de 30 metros se acerca peligrosamente rápido! La velocidad detectada del asteroide es de 46 km/s\n"
     ]
    }
   ],
   "source": [
    "AsteroideSize=30\n",
    "AsteroideSpeed=46\n",
    "\n",
    "if AsteroideSize > 25 and AsteroideSpeed > 25:\n",
    "    print(\"Warning! Un asteroide de \" + str(AsteroideSize) + \" metros se acerca peligrosamente rápido! La velocidad detectada del asteroide es de \" + str(AsteroideSpeed) + \" km/s\")\n",
    "elif AsteroideSize <= 25 and AsteroideSpeed > 25:\n",
    "    print(\"Warning! Un pequeño asteroide de \" + str(AsteroideSize) + \" metros se acerca peligrosamente rápido! La velocidad detectada del asteroide es de \" + str(AsteroideSpeed) + \" km/s\")\n",
    "elif AsteroideSize <= 25 and AsteroideSpeed >= 20:\n",
    "    print('Habitantes de la tierra es posible ver un rayo de luz, miren hacia el cielo!')\n",
    "else:\n",
    "    print(\"Sin cambios en el cielo\")"
   ]
  }
 ],
 "metadata": {
  "interpreter": {
   "hash": "dda0ab21570dce833aaeb910644a02803c24e5869765398937f61f236ed1a04d"
  },
  "kernelspec": {
   "display_name": "Python 3.10.2 64-bit",
   "language": "python",
   "name": "python3"
  },
  "language_info": {
   "codemirror_mode": {
    "name": "ipython",
    "version": 3
   },
   "file_extension": ".py",
   "mimetype": "text/x-python",
   "name": "python",
   "nbconvert_exporter": "python",
   "pygments_lexer": "ipython3",
   "version": "3.10.2"
  },
  "orig_nbformat": 4
 },
 "nbformat": 4,
 "nbformat_minor": 2
}
